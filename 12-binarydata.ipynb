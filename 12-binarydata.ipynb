{
 "cells": [
  {
   "cell_type": "markdown",
   "id": "9769e267-ae2f-4476-b6ad-717e9aff7967",
   "metadata": {
    "tags": []
   },
   "source": [
    "# Binary operations\n",
    "In this notebook we will review basic binary operations in the C language.\n",
    "\n",
    "## Data types and sizes\n",
    "First, we'll review data types and storage needs:"
   ]
  },
  {
   "cell_type": "code",
   "execution_count": 9,
   "id": "bf36a095-41e1-4041-bc82-da4bd6a97ca6",
   "metadata": {},
   "outputs": [
    {
     "name": "stdout",
     "output_type": "stream",
     "text": [
      "size of char: 1\n",
      "size of unsigned char: 1\n",
      "size of short: 2\n",
      "size of unsigned short: 2\n",
      "size of int: 4\n",
      "size of unsigned int: 4\n",
      "size of float: 4\n",
      "size of double: 8\n"
     ]
    }
   ],
   "source": [
    "printf(\"size of char: %ld\\n\",sizeof(char));\n",
    "printf(\"size of unsigned char: %ld\\n\",sizeof(unsigned char));\n",
    "printf(\"size of short: %ld\\n\",sizeof(short));\n",
    "printf(\"size of unsigned short: %ld\\n\",sizeof(unsigned short));\n",
    "printf(\"size of int: %ld\\n\",sizeof(int));\n",
    "printf(\"size of unsigned int: %ld\\n\",sizeof(unsigned int));\n",
    "printf(\"size of float: %ld\\n\",sizeof(float));\n",
    "printf(\"size of double: %ld\\n\",sizeof(double));"
   ]
  },
  {
   "cell_type": "markdown",
   "id": "72055fd4-e7db-4429-9e6a-e5a05ade5a2d",
   "metadata": {},
   "source": [
    "Each of the above are sizes in bytes, the sizes for structures and arrays are just equal to the sum of their components."
   ]
  },
  {
   "cell_type": "code",
   "execution_count": 14,
   "id": "b792a183-5036-4653-8e43-35850b18884b",
   "metadata": {},
   "outputs": [],
   "source": [
    "typedef struct{\n",
    "    double re,im;\n",
    "} Complex;\n",
    "double arry[10];"
   ]
  },
  {
   "cell_type": "code",
   "execution_count": 15,
   "id": "40e6cee2-76a5-4202-aab9-8f13cd786238",
   "metadata": {},
   "outputs": [
    {
     "name": "stdout",
     "output_type": "stream",
     "text": [
      "size of Complex: 16\n",
      "size of array arry: 80\n"
     ]
    }
   ],
   "source": [
    "printf(\"size of Complex: %ld\\n\",sizeof(Complex));\n",
    "printf(\"size of array arry: %ld\\n\",sizeof(arry));"
   ]
  },
  {
   "cell_type": "markdown",
   "id": "2909aab8-eca0-4787-9352-ad2c9910ca10",
   "metadata": {},
   "source": [
    "## Setting bits\n",
    "In C is is very easy to check and set the value of various bits in your data. This is often needed when we want to encode information into individual bits.  For example consider a 4-bit field that might be used to store status information:\n",
    "\n",
    "0000 : all good<br>\n",
    "0001 : missing input file<br>\n",
    "0010 : data format error<br>\n",
    "0100 : checksum error<br>\n",
    "1000 : data file too large, processing tuncated\n",
    "\n",
    "More than one of these conditions may be true at the same time and we can build the status work by setting each bit as a particular condition is encountered.\n",
    "\n",
    "The code below will set a bit at various locations and show the corresponding bit patten produced."
   ]
  },
  {
   "cell_type": "code",
   "execution_count": 8,
   "id": "fffe84fe-b7d4-4050-9f3c-e8ef182dbbde",
   "metadata": {},
   "outputs": [
    {
     "name": "stdout",
     "output_type": "stream",
     "text": [
      "iword <<  0 =          1\t00000001\n",
      "iword <<  1 =          2\t00000010\n",
      "iword <<  2 =          4\t00000100\n",
      "iword <<  3 =          8\t00001000\n",
      "iword <<  4 =         16\t00010000\n",
      "iword <<  5 =         32\t00100000\n",
      "iword <<  6 =         64\t01000000\n",
      "iword <<  7 =        128\t10000000\n"
     ]
    }
   ],
   "source": [
    "unsigned char iword=1;   // a 8-bit word\n",
    "// here we use the (left) bitshift operator to set a bit in our word from 0..31\n",
    "for(int i=0; i<8; i++){\n",
    "    printf(\"iword << %2u = %10u\\t\",i,1<<i);\n",
    "    for (int j=7; j>=0; j--) j==i ? printf(\"1\") : printf(\"0\");\n",
    "    printf(\"\\n\");\n",
    "}"
   ]
  },
  {
   "cell_type": "markdown",
   "id": "7ae38227-af18-4a05-adc1-f48d78fb3710",
   "metadata": {},
   "source": [
    "Notice how each right shift is the same as multiplying by a factor of 2."
   ]
  },
  {
   "cell_type": "markdown",
   "id": "fad87b91-73bf-4380-afbf-f8c624525092",
   "metadata": {},
   "source": [
    "The opposite of the left shift is a right shift, for example:"
   ]
  },
  {
   "cell_type": "code",
   "execution_count": 25,
   "id": "9753ed52-fcc4-4ef2-b4b0-71a96fab2658",
   "metadata": {},
   "outputs": [
    {
     "name": "stdout",
     "output_type": "stream",
     "text": [
      " i1:8\n",
      " i1>>1:4\n",
      " i1>>2:2\n"
     ]
    }
   ],
   "source": [
    "unsigned int i1 = 1<<3;  // set bit 3\n",
    "printf(\" i1:%u\\n i1>>1:%u\\n i1>>2:%u\\n\",i1,i1>>1,i1>>2);"
   ]
  },
  {
   "cell_type": "markdown",
   "id": "2fb4f8af-7589-4617-ba53-a59b1d88dacf",
   "metadata": {},
   "source": [
    "We can build up words setting individual bits using the logical OR operator, | (vertical line)\n",
    "\n",
    "```\n",
    "i1: 00000010\n",
    "i2: 00001000\n",
    "------------\n",
    "    00001010 = i1 | i2\n",
    "```"
   ]
  },
  {
   "cell_type": "code",
   "execution_count": 15,
   "id": "28f7bd0d-9d0d-430b-a697-940f3bfba5ba",
   "metadata": {},
   "outputs": [
    {
     "name": "stdout",
     "output_type": "stream",
     "text": [
      "i1:  2 | i2:  8 =  10\n"
     ]
    }
   ],
   "source": [
    "unsigned int i1 = 1<<1;  // set bit 1\n",
    "unsigned int i2 = 1<<3;  // set bit 3\n",
    "unsigned int i_or = i1|i2;\n",
    "printf(\"i1:%3u | i2:%3u = %3u\\n\",i1,i2,i_or);"
   ]
  },
  {
   "cell_type": "markdown",
   "id": "63a62780-54fa-4cea-a960-0caf29509949",
   "metadata": {},
   "source": [
    "But don't confuse the logical OR with addition:\n",
    "```\n",
    "i1: 00001000\n",
    "i2: 00001000\n",
    "------------\n",
    "    00001000 = i1 | i2\n",
    "```"
   ]
  },
  {
   "cell_type": "code",
   "execution_count": 16,
   "id": "3c416a16-3288-44a5-9540-12f5c4e084f1",
   "metadata": {},
   "outputs": [
    {
     "name": "stdout",
     "output_type": "stream",
     "text": [
      "i1:  8 | i2:  8 =   8\n"
     ]
    }
   ],
   "source": [
    "unsigned int i1 = 1<<3;  // set bit 3\n",
    "unsigned int i3 = 1<<3;  // set bit 3\n",
    "unsigned int i_or = i1|i3;\n",
    "printf(\"i1:%3u | i2:%3u = %3u\\n\",i1,i2,i_or);"
   ]
  },
  {
   "cell_type": "markdown",
   "id": "2c21939b-bd92-42af-a8e2-51f7cc6407de",
   "metadata": {},
   "source": [
    "## Checking bits\n",
    "To check the if a bit is set, we can use the logical & operator which performs a bitwise and of two bit fields, eg:\n",
    "```\n",
    "i1: 1101011\n",
    "i2: 1010101\n",
    "-----------\n",
    "    1000001 = i1 & i2\n",
    "```\n",
    "Here's an example of bit testing code:"
   ]
  },
  {
   "cell_type": "code",
   "execution_count": 30,
   "id": "b4b347af-f0aa-444a-817b-1dc44f5aae30",
   "metadata": {},
   "outputs": [
    {
     "name": "stdout",
     "output_type": "stream",
     "text": [
      "000010101011011\n"
     ]
    }
   ],
   "source": [
    "unsigned short ishort = 2743;\n",
    "int nbits = sizeof(unsigned short)*8;\n",
    "for (int i=nbits-1; i>-0; i--) {\n",
    "    bool bitset = 1<<i & ishort;  // the RHS is only non-0 if bit i is set\n",
    "    printf(\"%d\", bitset);\n",
    "}\n",
    "printf(\"\\n\");"
   ]
  },
  {
   "cell_type": "markdown",
   "id": "34f23a8c-f8e8-46b0-89de-4b66dedd7bd6",
   "metadata": {},
   "source": [
    "The output above is the binary representation of the variable ishort.  Can you convince yourself that this is correct?"
   ]
  },
  {
   "cell_type": "code",
   "execution_count": null,
   "id": "7e9185a7-b6db-4446-a5ad-25d846dfcd3c",
   "metadata": {},
   "outputs": [],
   "source": []
  }
 ],
 "metadata": {
  "kernelspec": {
   "display_name": "C++11",
   "language": "C++11",
   "name": "xcpp11"
  },
  "language_info": {
   "codemirror_mode": "text/x-c++src",
   "file_extension": ".cpp",
   "mimetype": "text/x-c++src",
   "name": "c++",
   "version": "11"
  }
 },
 "nbformat": 4,
 "nbformat_minor": 5
}
