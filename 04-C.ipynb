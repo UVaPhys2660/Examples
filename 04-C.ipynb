{
 "cells": [
  {
   "cell_type": "markdown",
   "id": "8b545125-ebd0-4894-9bed-87fc66229210",
   "metadata": {},
   "source": [
    "# arrays \n",
    "\n",
    "## examples of 1D arrays:"
   ]
  },
  {
   "cell_type": "code",
   "execution_count": 1,
   "id": "a22db410-ef66-4830-a6c2-a07cbfa9a52f",
   "metadata": {},
   "outputs": [],
   "source": [
    "int a[5];  // array of 5 integers\n",
    "double b[10];  // array of 10 doubles"
   ]
  },
  {
   "cell_type": "markdown",
   "id": "303d3c75-fe1a-40d5-9622-1f205b686d87",
   "metadata": {},
   "source": [
    "## Loop over the indices of an array and set values:"
   ]
  },
  {
   "cell_type": "code",
   "execution_count": 2,
   "id": "caec692e-7aca-4660-a30b-64987f320d60",
   "metadata": {},
   "outputs": [
    {
     "name": "stdout",
     "output_type": "stream",
     "text": [
      "2 4 6 8 10 \n"
     ]
    }
   ],
   "source": [
    "for (int i=0; i<5; i++){\n",
    "    a[i]=2*(i+1);  // indexing always starts at 0, ends and n-1 !!!\n",
    "    printf(\"%d \",a[i]);\n",
    "}\n",
    "printf(\"\\n\");"
   ]
  },
  {
   "cell_type": "markdown",
   "id": "2da9d7de-4060-4824-bf82-efb26b3bfd5d",
   "metadata": {},
   "source": [
    "the type of a is a **pointer to an integer** <br>\n",
    "the type of b is a **pointer to a double** \n",
    "\n",
    "here a_p, b_p respetively point to the first element of the array"
   ]
  },
  {
   "cell_type": "code",
   "execution_count": 3,
   "id": "b75b6d1e-9117-4864-a9a5-b7ba826af89a",
   "metadata": {},
   "outputs": [],
   "source": [
    "int *a_p = a;\n",
    "double *b_p = b;\n",
    "// the following is identical\n",
    "// int *a_p = &a[0];\n",
    "// int *b_p = &b[0];"
   ]
  },
  {
   "cell_type": "markdown",
   "id": "74a2bfa5-2501-495b-bb49-c4aae3d38d53",
   "metadata": {},
   "source": [
    "The size of an array (in bytes) is the size of each data element times the length of the array"
   ]
  },
  {
   "cell_type": "code",
   "execution_count": 4,
   "id": "0e738bb8-d3dc-4192-b489-489c607e96ae",
   "metadata": {},
   "outputs": [
    {
     "name": "stdout",
     "output_type": "stream",
     "text": [
      "sizeof(int) = 4\n",
      "sizeof(a) = 20\n",
      "sizeof(a_p) = 8\n"
     ]
    }
   ],
   "source": [
    "printf(\"sizeof(int) = %ld\\n\",sizeof(int));    // size of each element of a\n",
    "printf(\"sizeof(a) = %ld\\n\",sizeof(a));        // size of a = 5 * sizeof(int)\n",
    "printf(\"sizeof(a_p) = %ld\\n\",sizeof(a_p));    // size of an integer pointer (this is a memory address)"
   ]
  },
  {
   "cell_type": "markdown",
   "id": "57e4c67d-c6cd-4d71-9f27-ce359c82bdfa",
   "metadata": {},
   "source": [
    "Array indexing is equivalent to defeferencing a pointer.  The name of an array doubles as a pointer to its first value."
   ]
  },
  {
   "cell_type": "code",
   "execution_count": 5,
   "id": "90e3fed1-8aba-4158-b506-aa37e201d744",
   "metadata": {},
   "outputs": [
    {
     "name": "stdout",
     "output_type": "stream",
     "text": [
      "2\n",
      "2\n",
      "2\n"
     ]
    }
   ],
   "source": [
    "printf(\"%d\\n\",a[0]);\n",
    "printf(\"%d\\n\",a_p[0]);\n",
    "printf(\"%d\\n\",*a);"
   ]
  },
  {
   "cell_type": "markdown",
   "id": "fb59a3a3-af5a-426a-968b-2ef17fa749a8",
   "metadata": {},
   "source": [
    "Array indexing is equivalent to \"pointer arithmetic\""
   ]
  },
  {
   "cell_type": "code",
   "execution_count": 6,
   "id": "57b66991-9a14-4ce5-837e-205cbb5f2f89",
   "metadata": {},
   "outputs": [
    {
     "name": "stdout",
     "output_type": "stream",
     "text": [
      "a[0] =  2 a_p = 0x7f6e44adb020 *a_p =  2\n",
      "a[1] =  4 a_p = 0x7f6e44adb024 *a_p =  4\n",
      "a[2] =  6 a_p = 0x7f6e44adb028 *a_p =  6\n",
      "a[3] =  8 a_p = 0x7f6e44adb02c *a_p =  8\n",
      "a[4] = 10 a_p = 0x7f6e44adb030 *a_p = 10\n"
     ]
    }
   ],
   "source": [
    "for (int i=0; i<5; i++){\n",
    "    printf(\"a[%d] = %2d \", i,a[i]);\n",
    "    printf(\"a_p = 0x%lx \",(unsigned long)a_p);\n",
    "    printf(\"*a_p = %2d\\n\", *a_p);\n",
    "    a_p = a_p + 1;\n",
    "}"
   ]
  },
  {
   "cell_type": "markdown",
   "id": "2e59a04b-8918-4caf-ba39-afefd8152c95",
   "metadata": {},
   "source": [
    "What happens if we run this code again?"
   ]
  },
  {
   "cell_type": "code",
   "execution_count": 7,
   "id": "c4d03109-b7c6-476c-9208-5ebf89c11e76",
   "metadata": {},
   "outputs": [
    {
     "name": "stdout",
     "output_type": "stream",
     "text": [
      "a[0] =  2 a_p = 0x7f6e44adb034 *a_p =  0\n",
      "a[1] =  4 a_p = 0x7f6e44adb038 *a_p =  0\n",
      "a[2] =  6 a_p = 0x7f6e44adb03c *a_p =  0\n",
      "a[3] =  8 a_p = 0x7f6e44adb040 *a_p =  0\n",
      "a[4] = 10 a_p = 0x7f6e44adb044 *a_p =  0\n"
     ]
    }
   ],
   "source": [
    "for (int i=0; i<5; i++){\n",
    "    printf(\"a[%d] = %2d \", i,a[i]);\n",
    "    printf(\"a_p = 0x%lx \",(unsigned long)a_p);\n",
    "    printf(\"*a_p = %2d\\n\", *a_p);\n",
    "    a_p = a_p + 1;\n",
    "}"
   ]
  },
  {
   "cell_type": "markdown",
   "id": "91b93725-e71c-48b2-aa98-cf39480a8a70",
   "metadata": {},
   "source": [
    "Here the resultis not so good b/c we incremented the pointer past the end of the array!  This is a common error that can crash your program (ideally!) or (more often than not) cause corruption in your calculations that may be difficult to track down :( \n",
    "\n",
    "The fix is to reset our pointer to the head of the array:"
   ]
  },
  {
   "cell_type": "code",
   "execution_count": 8,
   "id": "14fa07ef-d5db-4428-90a8-39ecd85e17c4",
   "metadata": {},
   "outputs": [
    {
     "name": "stdout",
     "output_type": "stream",
     "text": [
      "a[0] =  2 a_p = 0x7f6e44adb020 *a_p =  2\n",
      "a[1] =  4 a_p = 0x7f6e44adb024 *a_p =  4\n",
      "a[2] =  6 a_p = 0x7f6e44adb028 *a_p =  6\n",
      "a[3] =  8 a_p = 0x7f6e44adb02c *a_p =  8\n",
      "a[4] = 10 a_p = 0x7f6e44adb030 *a_p = 10\n",
      "\n"
     ]
    }
   ],
   "source": [
    "a_p = a;\n",
    "for (int i=0; i<5; i++){\n",
    "    printf(\"a[%d] = %2d \", i,a[i]);\n",
    "    printf(\"a_p = 0x%lx \",(unsigned long)a_p);\n",
    "    printf(\"*a_p = %2d\\n\", *a_p);\n",
    "    a_p = a_p + 1;\n",
    "}\n",
    "printf(\"\\n\");"
   ]
  },
  {
   "cell_type": "markdown",
   "id": "7a900429-040f-4ae4-988f-e8a4b7bdc78a",
   "metadata": {},
   "source": [
    "We can also use the address_of operator on indivudual elements of an array"
   ]
  },
  {
   "cell_type": "code",
   "execution_count": 9,
   "id": "34f20931-5492-4950-9fb5-14ad87352ea9",
   "metadata": {},
   "outputs": [
    {
     "name": "stdout",
     "output_type": "stream",
     "text": [
      "*a_p =  6\n"
     ]
    }
   ],
   "source": [
    "a_p = &a[2];\n",
    "printf(\"*a_p = %2d\\n\", *a_p);"
   ]
  },
  {
   "cell_type": "markdown",
   "id": "dbe139a8-37ad-4aba-8dc9-adc932b0eaa7",
   "metadata": {},
   "source": [
    "**What can you conclude about the following code?**"
   ]
  },
  {
   "cell_type": "code",
   "execution_count": 10,
   "id": "a51a43d8-6e0c-47ee-a60d-9800f0a15443",
   "metadata": {},
   "outputs": [
    {
     "name": "stdout",
     "output_type": "stream",
     "text": [
      "*a_p =  8\n"
     ]
    }
   ],
   "source": [
    "printf(\"*a_p = %2d\\n\", a_p[1]);"
   ]
  },
  {
   "cell_type": "markdown",
   "id": "d5f00c47-983d-4ea2-979e-34a909ed84f2",
   "metadata": {},
   "source": [
    "Arrays are **fixed size** in (traditional) C.  \n",
    "\n",
    "*A workaround exists for creating arrays at runtime with any size (up to memory limitations).  We'll doiscuss this later.* \n",
    "\n",
    "It is often good practice to define you array sizes with constant variables at compile time.  You can then you the \"size\" variable throughout your code and if you ever need to change the size of the array, only one line of code needs to be modified.  "
   ]
  },
  {
   "cell_type": "code",
   "execution_count": 11,
   "id": "69c7392f-bce9-4614-a8c0-14b06e3d73ab",
   "metadata": {},
   "outputs": [],
   "source": [
    "const unsigned SIZE=10000;  // fixed at compile time!\n",
    "double ary[SIZE];           // a big array - size fixed at compile time\n",
    "\n",
    "for (int i=0; i< SIZE; ++i) {\n",
    "    ary[i]=i;\n",
    "    // ...\n",
    "}"
   ]
  },
  {
   "cell_type": "markdown",
   "id": "cf54aeb3-9c80-446e-9713-145e34b1a5be",
   "metadata": {},
   "source": [
    "Never do this:\n",
    "\n",
    "*Depending on your compiler settings you may get compiler errors or weird results.*"
   ]
  },
  {
   "cell_type": "code",
   "execution_count": 12,
   "id": "8b738aa8-cdcf-4f97-8433-5640bc04ce50",
   "metadata": {},
   "outputs": [
    {
     "name": "stderr",
     "output_type": "stream",
     "text": [
      "\u001b[1minput_line_62:4:8: \u001b[0m\u001b[0;1;31merror: \u001b[0m\u001b[1mvariable length array declaration not allowed at file scope\u001b[0m\n",
      "double ary2[size];   \n",
      "\u001b[0;1;32m       ^    ~~~~\n",
      "\u001b[0m"
     ]
    }
   ],
   "source": [
    "// this is not valid in (traditional C)\n",
    "int size=100;        // value set at run time\n",
    "double ary2[size];   "
   ]
  },
  {
   "cell_type": "markdown",
   "id": "5499b2b7-81c8-4862-aef3-81ad55b5b37d",
   "metadata": {
    "tags": []
   },
   "source": [
    "## Passing an array to a function\n",
    "\n",
    "Arrays do not carry size information.  Remember that the name of an array is just a pointer to the first element."
   ]
  },
  {
   "cell_type": "code",
   "execution_count": null,
   "id": "34dc9ca5-4e7f-4d21-848d-3da25327da5a",
   "metadata": {},
   "outputs": [],
   "source": [
    "// array name and size are passed to the function\n",
    "int addArray(int *a, int size){\n",
    "    int sum=0;\n",
    "    for (int i=0; i<size; i++){\n",
    "        sum+=a[i];\n",
    "    }\n",
    "    return sum;\n",
    "}"
   ]
  },
  {
   "cell_type": "markdown",
   "id": "182eee23-ec7e-4e4c-8307-9150eb5b7699",
   "metadata": {},
   "source": [
    "Notice below that we pass the size of the array using the sizeof function to determine the number of elements.  Note the size of return the **number of bytes** in the array, not the number of elements!"
   ]
  },
  {
   "cell_type": "code",
   "execution_count": 23,
   "id": "5c169484-23ac-40f3-99c8-b4399e816181",
   "metadata": {},
   "outputs": [
    {
     "name": "stdout",
     "output_type": "stream",
     "text": [
      "30\n"
     ]
    }
   ],
   "source": [
    "printf(\"%d\\n\",addArray(a,sizeof(a)/sizeof(int)));"
   ]
  },
  {
   "cell_type": "markdown",
   "id": "23d4514c-5b96-4252-b224-18f5c99b08da",
   "metadata": {},
   "source": [
    "# Example or recursion"
   ]
  },
  {
   "cell_type": "code",
   "execution_count": 15,
   "id": "48864769-5198-42ef-91f5-0e0362e4f056",
   "metadata": {},
   "outputs": [],
   "source": [
    "long fact(int n) {\n",
    "    printf(\"fact called with n=%d\\n\",n);\n",
    "    if (n<=1) \n",
    "        return (long) 1;  // terminating condition\n",
    "    else \n",
    "        return (long)n * fact(n-1); // recursive call \n",
    "}"
   ]
  },
  {
   "cell_type": "markdown",
   "id": "9532d9c2-75e8-4fef-a721-9b0ca1577172",
   "metadata": {},
   "source": [
    "Try this code:"
   ]
  },
  {
   "cell_type": "code",
   "execution_count": 20,
   "id": "4449b720-436c-45a7-83f9-b7dbb02efc84",
   "metadata": {},
   "outputs": [
    {
     "name": "stdout",
     "output_type": "stream",
     "text": [
      "fact called with n=10\n",
      "fact called with n=9\n",
      "fact called with n=8\n",
      "fact called with n=7\n",
      "fact called with n=6\n",
      "fact called with n=5\n",
      "fact called with n=4\n",
      "fact called with n=3\n",
      "fact called with n=2\n",
      "fact called with n=1\n",
      "10!=3628800"
     ]
    }
   ],
   "source": [
    "int n=10;\n",
    "printf(\"%d!=%ld\",n,fact(10));"
   ]
  },
  {
   "cell_type": "code",
   "execution_count": null,
   "id": "677f004b-3203-41bd-ad88-79218b25ade3",
   "metadata": {},
   "outputs": [],
   "source": []
  }
 ],
 "metadata": {
  "kernelspec": {
   "display_name": "ROOT C++",
   "language": "c++",
   "name": "root"
  },
  "language_info": {
   "codemirror_mode": "text/x-c++src",
   "file_extension": ".C",
   "mimetype": " text/x-c++src",
   "name": "c++"
  }
 },
 "nbformat": 4,
 "nbformat_minor": 5
}
