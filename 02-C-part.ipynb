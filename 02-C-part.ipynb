{
 "cells": [
  {
   "attachments": {
    "78a6d9dd-8619-4d27-a6da-633e4683e17f.png": {
     "image/png": "[encoded data removed]"
    }
   },
   "cell_type": "markdown",
   "id": "29f4805c-66df-4f6c-8ab4-9a0b1a27bdd3",
   "metadata": {},
   "source": [
    "# Preliminaries\n",
    "\n",
    "To run the code in the cells below select a cell and use press shift-enter or click on the single triangle symbol above.  Note that cell may need to be run sequentially, if variable definitials are needed, etc.\n",
    "\n",
    "If you are prompted to load a kernel to run this notebook, choose C++11\n",
    "\n",
    "![image.png](attachment:78a6d9dd-8619-4d27-a6da-633e4683e17f.png)\n",
    "\n",
    "## FYI\n",
    "This notebook uses cling, an interpreter that executes C(++) style code.\n",
    "\n",
    "If your notebook gets stuck, use the menu option Kernel -> Restart Kernel..."
   ]
  },
  {
   "cell_type": "markdown",
   "id": "6179a525-e62f-4573-b338-18b22adf906f",
   "metadata": {},
   "source": [
    "# Program flow control examples"
   ]
  },
  {
   "cell_type": "code",
   "execution_count": 1,
   "id": "7b35625e-cc60-4b1b-966c-37ffbc787b69",
   "metadata": {},
   "outputs": [],
   "source": [
    "int a, b, c;"
   ]
  },
  {
   "cell_type": "markdown",
   "id": "8a964581-5b25-4812-a186-82e8138483e9",
   "metadata": {},
   "source": [
    "## if...else"
   ]
  },
  {
   "cell_type": "code",
   "execution_count": 2,
   "id": "5d4b2ed0-751a-4fc8-a2ad-ec5245c029ff",
   "metadata": {},
   "outputs": [
    {
     "name": "stdout",
     "output_type": "stream",
     "text": [
      "no tests satisfied"
     ]
    }
   ],
   "source": [
    "a=1;\n",
    "b=2;\n",
    "c=3;\n",
    "\n",
    "\n",
    "if (a>1) {\n",
    "    printf(\"stopping on first test\\n\");\n",
    "}\n",
    "else if (b>2) {\n",
    "    printf(\"stopping on second test\\n\");\n",
    "}\n",
    "else if (c>3) {\n",
    "    printf(\"stopping on third test\\n\");\n",
    "}\n",
    "else {\n",
    "    printf(\"no tests satisfied\");\n",
    "}"
   ]
  },
  {
   "cell_type": "markdown",
   "id": "c5adb00c-cdcd-4869-9ac4-b54a12d809a0",
   "metadata": {},
   "source": [
    "## switch...case"
   ]
  },
  {
   "cell_type": "code",
   "execution_count": 3,
   "id": "cdc7b61f-92dc-488c-853c-22fa88cf2907",
   "metadata": {},
   "outputs": [],
   "source": [
    "char letter;"
   ]
  },
  {
   "cell_type": "code",
   "execution_count": 4,
   "id": "e515acf1-e0b8-4ec5-962d-203512be2bcd",
   "metadata": {},
   "outputs": [
    {
     "name": "stdout",
     "output_type": "stream",
     "text": [
      "B is for Bear\n"
     ]
    }
   ],
   "source": [
    "letter='B';\n",
    "\n",
    "switch (letter) {\n",
    "    case 'a':\n",
    "    case 'A':\n",
    "        printf(\"A is for Aardvark\\n\");\n",
    "        break;\n",
    "    case 'b':\n",
    "    case 'B':\n",
    "        printf(\"B is for Bear\\n\");\n",
    "        break;\n",
    "    default:\n",
    "    printf(\"I don't know that letter\\n\");\n",
    "}"
   ]
  },
  {
   "cell_type": "markdown",
   "id": "16e52ff6-b543-4885-ad3f-986725bcbfdd",
   "metadata": {},
   "source": [
    "## if..else shorthand"
   ]
  },
  {
   "cell_type": "code",
   "execution_count": 5,
   "id": "b0185a7f-3994-41b8-a9e9-d84dd2876f97",
   "metadata": {},
   "outputs": [],
   "source": [
    "double x, y;"
   ]
  },
  {
   "cell_type": "code",
   "execution_count": 6,
   "id": "57274942-68df-4de9-9c31-57046bb9dc3c",
   "metadata": {},
   "outputs": [
    {
     "name": "stdout",
     "output_type": "stream",
     "text": [
      "y>x\n"
     ]
    }
   ],
   "source": [
    "x=1.0;\n",
    "y=2.0;\n",
    "x > y ? printf(\"x>y\\n\") : printf(\"y>x\\n\"); "
   ]
  },
  {
   "cell_type": "markdown",
   "id": "b40b50aa-9e09-41f7-b0c7-0d7bc2aff348",
   "metadata": {},
   "source": [
    "## Loop examples\n",
    "### for loops"
   ]
  },
  {
   "cell_type": "code",
   "execution_count": 7,
   "id": "0926f8bc-6a1c-4948-8b77-7232821f280f",
   "metadata": {},
   "outputs": [
    {
     "name": "stdout",
     "output_type": "stream",
     "text": [
      "i=0\n",
      "i=1\n",
      "i=2\n",
      "i=3\n",
      "i=4\n",
      "---\n",
      "i=0\n",
      "i=2\n",
      "i=4\n",
      "i=6\n",
      "i=8\n",
      "---\n",
      "i=10\n",
      "i=7\n",
      "i=4\n",
      "i=1\n"
     ]
    }
   ],
   "source": [
    "int i;\n",
    "for (int i=0; i<5; ++i){\n",
    "    printf(\"i=%d\\n\",i);\n",
    "}\n",
    "printf(\"---\\n\");\n",
    "for (int i=0; i<10; i=i+2){\n",
    "    printf(\"i=%d\\n\",i);\n",
    "}\n",
    "printf(\"---\\n\");\n",
    "for (int i=10; i>0; i-=3){\n",
    "    printf(\"i=%d\\n\",i);\n",
    "}"
   ]
  },
  {
   "cell_type": "markdown",
   "id": "07e73c50-90fb-4eff-86a5-ce6980bd00a2",
   "metadata": {},
   "source": [
    "### Pre-test, while loop\n",
    "Because the test is performed before the loop begins, the encolsed code may never be executed, eg if y<=0 to start."
   ]
  },
  {
   "cell_type": "code",
   "execution_count": 8,
   "id": "bbd3b248-b35f-495d-b429-cc49fb90d747",
   "metadata": {},
   "outputs": [
    {
     "name": "stdout",
     "output_type": "stream",
     "text": [
      " 0.00 10.00\n",
      " 0.10  9.95\n",
      " 0.20  9.80\n",
      " 0.30  9.56\n",
      " 0.40  9.22\n",
      " 0.50  8.77\n",
      " 0.60  8.23\n",
      " 0.70  7.60\n",
      " 0.80  6.86\n",
      " 0.90  6.03\n",
      " 1.00  5.10\n",
      " 1.10  4.06\n",
      " 1.20  2.94\n",
      " 1.30  1.71\n",
      " 1.40  0.39\n"
     ]
    }
   ],
   "source": [
    "double yval=10;\n",
    "double t=0;\n",
    "double v=0;\n",
    "double dt=0.1;\n",
    "const double g=9.81;\n",
    "while (yval>0){\n",
    "    printf(\"%5.2lf %5.2lf\\n\",t,yval);\n",
    "    yval=yval-v*dt-0.5*g*dt*dt;\n",
    "    v+=dt*g;\n",
    "    t+=dt;\n",
    "}"
   ]
  },
  {
   "cell_type": "markdown",
   "id": "77f15632-87e4-41fe-b7dc-fc6c75bee3be",
   "metadata": {},
   "source": [
    "### post-test, do-while loop\n",
    "These loops are entered before the test, so the code enclosed can be executed at least once."
   ]
  },
  {
   "cell_type": "code",
   "execution_count": 9,
   "id": "82b71875-9a99-4103-bd0d-32ef1bcc7c5c",
   "metadata": {},
   "outputs": [
    {
     "name": "stdout",
     "output_type": "stream",
     "text": [
      " 0.00 -10.00\n"
     ]
    }
   ],
   "source": [
    "double yval=-10;\n",
    "double t=0;\n",
    "double v=0;\n",
    "double dt=0.1;\n",
    "const double g=9.81;\n",
    "do {\n",
    "    printf(\"%5.2lf %5.2lf\\n\",t,yval);\n",
    "    yval=yval-v*dt-0.5*g*dt*dt;\n",
    "    v+=dt*g;\n",
    "    t+=dt;\n",
    "} while (yval>0)"
   ]
  },
  {
   "cell_type": "markdown",
   "id": "f8534946-0fa8-43af-9dab-fa634e0d727d",
   "metadata": {},
   "source": [
    "using a break statement"
   ]
  },
  {
   "cell_type": "code",
   "execution_count": 10,
   "id": "ce51c867-112f-483a-a0cb-02804bece627",
   "metadata": {},
   "outputs": [
    {
     "name": "stdout",
     "output_type": "stream",
     "text": [
      "i=0\n",
      "i=1\n",
      "i=2\n"
     ]
    }
   ],
   "source": [
    "for (int i=0; i<5; ++i){\n",
    "    printf(\"i=%d\\n\",i);\n",
    "    if (i>=2) break;   // exit loop early\n",
    "}"
   ]
  },
  {
   "cell_type": "markdown",
   "id": "66b92663-8bd1-4a46-856c-e8d0ace6c5e6",
   "metadata": {},
   "source": [
    "using a continue statement"
   ]
  },
  {
   "cell_type": "code",
   "execution_count": 11,
   "id": "4c5f6363-647a-4864-83da-56c74b52f5d3",
   "metadata": {},
   "outputs": [
    {
     "name": "stdout",
     "output_type": "stream",
     "text": [
      "i=0\n",
      "i=2\n",
      "i=4\n",
      "i=6\n",
      "i=8\n"
     ]
    }
   ],
   "source": [
    "for (int i=0; i<10; ++i){\n",
    "    if (i%2) continue;   // skip the rest of the loop for odd numbers\n",
    "    printf(\"i=%d\\n\",i);\n",
    "}"
   ]
  },
  {
   "cell_type": "markdown",
   "id": "c27b5b72-0f81-4de1-a3e1-ee1b76a2b1db",
   "metadata": {},
   "source": [
    "## Scope examples"
   ]
  },
  {
   "cell_type": "code",
   "execution_count": 12,
   "id": "c5bcfd69-530d-441c-bddf-cbcfe0c19dd7",
   "metadata": {},
   "outputs": [
    {
     "name": "stdout",
     "output_type": "stream",
     "text": [
      "x in global scope is: 1.000000\n",
      "x in local scope is: x\n"
     ]
    }
   ],
   "source": [
    "printf(\"x in global scope is: %lf\\n\",x);  // this x was defined in the cells above\n",
    "{\n",
    "    char x = 'x';\n",
    "    printf (\"x in local scope is: %c\\n\",x);\n",
    "}"
   ]
  },
  {
   "cell_type": "markdown",
   "id": "deb225b6-e290-4f7c-b68d-08685bec8bb3",
   "metadata": {},
   "source": [
    "Below the scope of q is limited to within the { }"
   ]
  },
  {
   "cell_type": "code",
   "execution_count": 13,
   "id": "ebbedca9-6314-4d73-908e-15967138bfed",
   "metadata": {},
   "outputs": [
    {
     "name": "stdout",
     "output_type": "stream",
     "text": [
      "123.000000\n"
     ]
    }
   ],
   "source": [
    "{\n",
    "    double q=123.0;\n",
    "    printf(\"%lf\\n\",q);\n",
    "}\n",
    "//printf(\"%lf\\n\",q);  // uncommenting this line causes an error"
   ]
  },
  {
   "cell_type": "code",
   "execution_count": 14,
   "id": "9a6ed788-2081-4eac-838d-94c917dedf67",
   "metadata": {},
   "outputs": [
    {
     "name": "stdout",
     "output_type": "stream",
     "text": [
      "i=0\n",
      "i=1\n",
      "i=2\n",
      "i=3\n",
      "i=4\n",
      "i=0\n"
     ]
    }
   ],
   "source": [
    "// C style iterators in a for loop\n",
    "int i;                 // i declared, but not defined\n",
    "for (int i=0; i<5; ++i){\n",
    "    printf(\"i=%d\\n\",i);\n",
    "}\n",
    "printf(\"i=%d\\n\",i);    // don't use i here, the value of i is \"undefined\"\n",
    ";"
   ]
  },
  {
   "cell_type": "markdown",
   "id": "999e4986-c06a-4e56-b3e0-b9cab495a9e9",
   "metadata": {},
   "source": [
    "Note: I reccomend defining iterators using the C++ style shown below."
   ]
  },
  {
   "cell_type": "code",
   "execution_count": 15,
   "id": "7d049d07-79d9-4188-9de9-4546c3dbe3bb",
   "metadata": {},
   "outputs": [
    {
     "name": "stdout",
     "output_type": "stream",
     "text": [
      "i=0\n",
      "i=1\n",
      "i=2\n",
      "i=3\n",
      "i=4\n"
     ]
    }
   ],
   "source": [
    "// C++ style for defining iterators in a for loop\n",
    "for (int j=0; j<5; ++j){  // j only exists in the scope of this loop\n",
    "    printf(\"i=%d\\n\",j);\n",
    "}\n",
    "// printf(\"j=%d\\n\",j);   // uncommenting this line causes an error"
   ]
  },
  {
   "cell_type": "markdown",
   "id": "aab3ec74-cc73-4ccd-8346-6bd2ce060b3e",
   "metadata": {},
   "source": [
    "## nested loops"
   ]
  },
  {
   "cell_type": "code",
   "execution_count": 16,
   "id": "7d67f181-be36-4145-be5c-205b287989b4",
   "metadata": {},
   "outputs": [
    {
     "name": "stdout",
     "output_type": "stream",
     "text": [
      "00 01 02 03 04 \n",
      "10 11 12 13 14 \n",
      "20 21 22 23 24 \n",
      "30 31 32 33 34 \n",
      "40 41 42 43 44 \n"
     ]
    }
   ],
   "source": [
    "for (int i=0; i<5; i++){\n",
    "    for (int j=0; j<5; j++){\n",
    "        printf(\"%d%d \",i,j);\n",
    "    }\n",
    "    printf(\"\\n\");\n",
    "}"
   ]
  },
  {
   "cell_type": "code",
   "execution_count": null,
   "id": "d200906d-c48c-4e6d-a750-0f29be6ef5ad",
   "metadata": {},
   "outputs": [],
   "source": []
  }
 ],
 "metadata": {
  "kernelspec": {
   "display_name": "C++11",
   "language": "C++11",
   "name": "xcpp11"
  },
  "language_info": {
   "codemirror_mode": "text/x-c++src",
   "file_extension": ".cpp",
   "mimetype": "text/x-c++src",
   "name": "c++",
   "version": "11"
  }
 },
 "nbformat": 4,
 "nbformat_minor": 5
}
