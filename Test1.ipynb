{
 "cells": [
  {
   "cell_type": "markdown",
   "id": "6179a525-e62f-4573-b338-18b22adf906f",
   "metadata": {},
   "source": [
    "# Program flow control examples"
   ]
  },
  {
   "cell_type": "code",
   "execution_count": 15,
   "id": "7b35625e-cc60-4b1b-966c-37ffbc787b69",
   "metadata": {},
   "outputs": [],
   "source": [
    "int a, b, c;"
   ]
  },
  {
   "cell_type": "markdown",
   "id": "8a964581-5b25-4812-a186-82e8138483e9",
   "metadata": {},
   "source": [
    "## if...else"
   ]
  },
  {
   "cell_type": "code",
   "execution_count": 20,
   "id": "5d4b2ed0-751a-4fc8-a2ad-ec5245c029ff",
   "metadata": {},
   "outputs": [
    {
     "name": "stdout",
     "output_type": "stream",
     "text": [
      "no tests satisfied"
     ]
    }
   ],
   "source": [
    "a=1;\n",
    "b=2;\n",
    "c=3;\n",
    "\n",
    "\n",
    "if (a>1) {\n",
    "    printf(\"stopping on first test\\n\");\n",
    "}\n",
    "else if (b>2) {\n",
    "    printf(\"stopping on second test\\n\");\n",
    "}\n",
    "else if (c>3) {\n",
    "    printf(\"stopping on third test\\n\");\n",
    "}\n",
    "else {\n",
    "    printf(\"no tests satisfied\");\n",
    "}"
   ]
  },
  {
   "cell_type": "markdown",
   "id": "c5adb00c-cdcd-4869-9ac4-b54a12d809a0",
   "metadata": {},
   "source": [
    "## switch...case"
   ]
  },
  {
   "cell_type": "code",
   "execution_count": 21,
   "id": "cdc7b61f-92dc-488c-853c-22fa88cf2907",
   "metadata": {},
   "outputs": [],
   "source": [
    "char letter;"
   ]
  },
  {
   "cell_type": "code",
   "execution_count": 22,
   "id": "e515acf1-e0b8-4ec5-962d-203512be2bcd",
   "metadata": {},
   "outputs": [
    {
     "name": "stdout",
     "output_type": "stream",
     "text": [
      "B is for Bear\n"
     ]
    }
   ],
   "source": [
    "letter='B';\n",
    "\n",
    "\n",
    "switch (letter) {\n",
    "    case 'a':\n",
    "    case 'A':\n",
    "        printf(\"A is for Aardvark\\n\");\n",
    "        break;\n",
    "    case 'b':\n",
    "    case 'B':\n",
    "        printf(\"B is for Bear\\n\");\n",
    "        break;\n",
    "    default:\n",
    "    printf(\"I don't know that letter\\n\");\n",
    "}"
   ]
  },
  {
   "cell_type": "code",
   "execution_count": null,
   "id": "b0185a7f-3994-41b8-a9e9-d84dd2876f97",
   "metadata": {},
   "outputs": [],
   "source": []
  }
 ],
 "metadata": {
  "kernelspec": {
   "display_name": "ROOT C++",
   "language": "c++",
   "name": "root"
  },
  "language_info": {
   "codemirror_mode": "text/x-c++src",
   "file_extension": ".C",
   "mimetype": " text/x-c++src",
   "name": "c++"
  }
 },
 "nbformat": 4,
 "nbformat_minor": 5
}
