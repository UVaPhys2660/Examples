{
 "cells": [
  {
   "cell_type": "markdown",
   "id": "8b545125-ebd0-4894-9bed-87fc66229210",
   "metadata": {
    "slideshow": {
     "slide_type": "slide"
    }
   },
   "source": [
    "# String data\n",
    "\n",
    "Note that string as just arrays of character data in C.  However a small hack is employed to identify the length of the string in the array.  In this notebook we'll compare the character array  to other arrays we have used and then see how the length is identified to form a C \"string\"."
   ]
  },
  {
   "cell_type": "markdown",
   "id": "17aed485",
   "metadata": {
    "slideshow": {
     "slide_type": "slide"
    }
   },
   "source": [
    "## Review of arrays in C"
   ]
  },
  {
   "cell_type": "code",
   "execution_count": 1,
   "id": "a22db410-ef66-4830-a6c2-a07cbfa9a52f",
   "metadata": {
    "slideshow": {
     "slide_type": "-"
    }
   },
   "outputs": [],
   "source": [
    "double b[10];  // array of 10 doubles"
   ]
  },
  {
   "cell_type": "markdown",
   "id": "5ad7f90d",
   "metadata": {
    "slideshow": {
     "slide_type": "subslide"
    }
   },
   "source": [
    "double b[10];  // array of 10 doubles\n",
    "\n",
    "Loop to fill the array"
   ]
  },
  {
   "cell_type": "code",
   "execution_count": 2,
   "id": "caec692e-7aca-4660-a30b-64987f320d60",
   "metadata": {
    "slideshow": {
     "slide_type": "-"
    }
   },
   "outputs": [
    {
     "name": "stdout",
     "output_type": "stream",
     "text": [
      "2.000000 4.000000 6.000000 8.000000 10.000000 12.000000 14.000000 16.000000 18.000000 20.000000 \n"
     ]
    }
   ],
   "source": [
    "int n = sizeof(b)/sizeof(double);\n",
    "for (int i=0; i<n; i++){\n",
    "    b[i]=2*(i+1);  // indexing always starts at 0, ends and n-1 !!!\n",
    "    printf(\"%lf \",b[i]);\n",
    "}\n",
    "printf(\"\\n\");"
   ]
  },
  {
   "cell_type": "markdown",
   "id": "d643ec2e-24e3-4eb7-bc14-0b6f7c35aef9",
   "metadata": {},
   "source": [
    "## alternate definition of the array\n",
    "We can also specify the data in an array when the array is defined.  In this case the compiler will automatically calculate the size of the array."
   ]
  },
  {
   "cell_type": "code",
   "execution_count": 4,
   "id": "5814ea5e-2706-4921-b349-8886cbbbf8f5",
   "metadata": {},
   "outputs": [
    {
     "name": "stdout",
     "output_type": "stream",
     "text": [
      "2.000000 4.000000 6.000000 7.000000 10.000000 12.000000 14.000000 16.000000 18.000000 20.000000 "
     ]
    }
   ],
   "source": [
    "double b2[] = {2,4,6,7,10,12,14,16,18,20};\n",
    "int n=sizeof(b2)/sizeof(double);   // calculate the elements in the array\n",
    "for (int i=0; i<n; i++) printf(\"%lf \",b2[i]);"
   ]
  },
  {
   "cell_type": "markdown",
   "id": "2da9d7de-4060-4824-bf82-efb26b3bfd5d",
   "metadata": {
    "slideshow": {
     "slide_type": "slide"
    }
   },
   "source": [
    "double b[10];  // array of 10 doubles\n",
    "\n",
    "The type of b is a **pointer to a double** <br>\n",
    "The name of an array doubles as a pointer to its first value."
   ]
  },
  {
   "cell_type": "code",
   "execution_count": 3,
   "id": "b75b6d1e-9117-4864-a9a5-b7ba826af89a",
   "metadata": {},
   "outputs": [],
   "source": [
    "double *b_p = b;\n",
    "// the following is identical\n",
    "// int *b_p = &b[0];"
   ]
  },
  {
   "cell_type": "markdown",
   "id": "57e4c67d-c6cd-4d71-9f27-ce359c82bdfa",
   "metadata": {
    "slideshow": {
     "slide_type": "slide"
    }
   },
   "source": [
    "double b[10];  // array of 10 doubles\n",
    "double *b_p = b;\n",
    "\n",
    "Array indexing is equivalent to dereferencing a pointer. "
   ]
  },
  {
   "cell_type": "code",
   "execution_count": 4,
   "id": "90e3fed1-8aba-4158-b506-aa37e201d744",
   "metadata": {},
   "outputs": [
    {
     "name": "stdout",
     "output_type": "stream",
     "text": [
      "2.000000\n",
      "2.000000\n",
      "2.000000\n"
     ]
    }
   ],
   "source": [
    "printf(\"%lf\\n\",b[0]);\n",
    "printf(\"%lf\\n\",b_p[0]);\n",
    "printf(\"%lf\\n\",*b);"
   ]
  },
  {
   "cell_type": "markdown",
   "id": "fb59a3a3-af5a-426a-968b-2ef17fa749a8",
   "metadata": {
    "slideshow": {
     "slide_type": "slide"
    }
   },
   "source": [
    "Array indexing is equivalent to \"pointer arithmetic\""
   ]
  },
  {
   "cell_type": "code",
   "execution_count": 5,
   "id": "57b66991-9a14-4ce5-837e-205cbb5f2f89",
   "metadata": {},
   "outputs": [
    {
     "name": "stdout",
     "output_type": "stream",
     "text": [
      "b[0] =  2.0 b_p = 0x7f55330fa030 *b_p =  2.0\n",
      "b[1] =  4.0 b_p = 0x7f55330fa038 *b_p =  4.0\n",
      "b[2] =  6.0 b_p = 0x7f55330fa040 *b_p =  6.0\n",
      "b[3] =  8.0 b_p = 0x7f55330fa048 *b_p =  8.0\n",
      "b[4] = 10.0 b_p = 0x7f55330fa050 *b_p = 10.0\n",
      "b[5] = 12.0 b_p = 0x7f55330fa058 *b_p = 12.0\n",
      "b[6] = 14.0 b_p = 0x7f55330fa060 *b_p = 14.0\n",
      "b[7] = 16.0 b_p = 0x7f55330fa068 *b_p = 16.0\n",
      "b[8] = 18.0 b_p = 0x7f55330fa070 *b_p = 18.0\n",
      "b[9] = 20.0 b_p = 0x7f55330fa078 *b_p = 20.0\n"
     ]
    }
   ],
   "source": [
    "b_p = b;  // set pointer to head of array\n",
    "for (int i=0; i<n; i++){\n",
    "    printf(\"b[%d] = %4.1lf \", i,b[i]);         // access data using index\n",
    "    printf(\"b_p = 0x%lx \",(unsigned long)b_p); // view the memory address\n",
    "    printf(\"*b_p = %4.1lf\\n\", *b_p);           // access data using pointer\n",
    "    b_p = b_p + 1;                             // increment pointer\n",
    "}"
   ]
  },
  {
   "cell_type": "markdown",
   "id": "91b93725-e71c-48b2-aa98-cf39480a8a70",
   "metadata": {
    "slideshow": {
     "slide_type": "slide"
    }
   },
   "source": [
    "# Going to 2 dimensions"
   ]
  },
  {
   "cell_type": "code",
   "execution_count": 6,
   "id": "14fa07ef-d5db-4428-90a8-39ecd85e17c4",
   "metadata": {},
   "outputs": [],
   "source": [
    "const int nr=2, nc=3;\n",
    "double c[nr][nc];"
   ]
  },
  {
   "cell_type": "markdown",
   "id": "7ade67d4-0c4b-479f-b3a1-68de65371bbf",
   "metadata": {
    "slideshow": {
     "slide_type": "slide"
    }
   },
   "source": [
    "const int nr=2, nc=3;<br>\n",
    "double c[nr][nc];\n",
    "\n",
    "We can think of a 2D array as an **array of arrays**. <br>\n",
    "For each index *nr* we have an array of *nc* doubles.\n",
    "\n",
    "<table>\n",
    "    <tr>\n",
    "        <td></td>\n",
    "        <td></td>\n",
    "        <td>nr</td>\n",
    "        <td></td>\n",
    "    </tr>\n",
    "        <tr>\n",
    "        <td></td>\n",
    "        <td>__</td>\n",
    "        <td>__</td>\n",
    "        <td>__</td>\n",
    "    </tr>\n",
    "    <tr>\n",
    "        <td>nc&nbsp&nbsp&nbsp&nbsp|</td>\n",
    "        <td>0</td>\n",
    "        <td>1</td>\n",
    "        <td>2</td>\n",
    "    </tr>\n",
    "    <tr>\n",
    "        <td>0&nbsp&nbsp&nbsp&nbsp&nbsp|</td>\n",
    "        <td><b>c[0]</b>[0]</td>\n",
    "        <td><b>c[0]</b>[1]</td>\n",
    "        <td><b>c[0]</b>[2]</td>\n",
    "    </tr>\n",
    "    <tr>\n",
    "        <td>1&nbsp&nbsp&nbsp&nbsp&nbsp|</td>\n",
    "        <td><b>c[1]</b>[0]</td>\n",
    "        <td><b>c[1]</b>[1]</td>\n",
    "        <td><b>c[1]</b>[2]</td>\n",
    "    </tr>\n",
    "</table>\n",
    "\n",
    "Here we essentially have a c[0] array of 3 doubles and a c[1] array of 3 doubles."
   ]
  },
  {
   "cell_type": "markdown",
   "id": "69f87771",
   "metadata": {
    "slideshow": {
     "slide_type": "slide"
    }
   },
   "source": [
    "const int nr=2, nc=3;<br>\n",
    "double c[nr][nc];\n",
    "\n",
    "Filling the array:"
   ]
  },
  {
   "cell_type": "code",
   "execution_count": 7,
   "id": "89e6c87e-ef1a-4fd2-b0c4-b0020f72955c",
   "metadata": {},
   "outputs": [],
   "source": [
    "for (int i=0; i<nr; ++i){\n",
    "    for (int j=0; j<nc; ++j){\n",
    "        c[i][j]=(i+1)*10+(j+1);  // index: row[i] and column[j]\n",
    "    }\n",
    "}"
   ]
  },
  {
   "cell_type": "markdown",
   "id": "7ed59695",
   "metadata": {},
   "source": [
    "<table>\n",
    "    <tr>\n",
    "        <td></td>\n",
    "        <td></td>\n",
    "        <td>nr</td>\n",
    "        <td></td>\n",
    "    </tr>\n",
    "        <tr>\n",
    "        <td></td>\n",
    "        <td>__</td>\n",
    "        <td>__</td>\n",
    "        <td>__</td>\n",
    "    </tr>\n",
    "    <tr>\n",
    "        <td>nc&nbsp&nbsp&nbsp&nbsp|</td>\n",
    "        <td>0</td>\n",
    "        <td>1</td>\n",
    "        <td>2</td>\n",
    "    </tr>\n",
    "    <tr>\n",
    "        <td>0&nbsp&nbsp&nbsp&nbsp&nbsp|</td>\n",
    "        <td><b>c[0]</b>[0]</td>\n",
    "        <td><b>c[0]</b>[1]</td>\n",
    "        <td><b>c[0]</b>[2]</td>\n",
    "    </tr>\n",
    "    <tr>\n",
    "        <td>1&nbsp&nbsp&nbsp&nbsp&nbsp|</td>\n",
    "        <td><b>c[1]</b>[0]</td>\n",
    "        <td><b>c[1]</b>[1]</td>\n",
    "        <td><b>c[1]</b>[2]</td>\n",
    "    </tr>\n",
    "</table>\n"
   ]
  },
  {
   "cell_type": "markdown",
   "id": "5c943d1d-e560-494a-8603-fed13ef54883",
   "metadata": {
    "slideshow": {
     "slide_type": "slide"
    }
   },
   "source": [
    "Printing the array"
   ]
  },
  {
   "cell_type": "code",
   "execution_count": 8,
   "id": "0193b561-5fde-434b-a46d-9c4cb3ad7ad6",
   "metadata": {},
   "outputs": [
    {
     "name": "stdout",
     "output_type": "stream",
     "text": [
      "|   11 |   12 |   13 |\n",
      "|   21 |   22 |   23 |\n"
     ]
    }
   ],
   "source": [
    "for (int i=0; i<nr; ++i){\n",
    "    for (int j=0; j<nc; ++j){\n",
    "        printf(\"| %4.0lf \",c[i][j]);\n",
    "    }\n",
    "    printf(\"|\\n\");\n",
    "}"
   ]
  },
  {
   "cell_type": "markdown",
   "id": "7a900429-040f-4ae4-988f-e8a4b7bdc78a",
   "metadata": {
    "slideshow": {
     "slide_type": "slide"
    }
   },
   "source": [
    "Arrays are stored in [**row-major** order](https://en.wikipedia.org/wiki/Row-_and_column-major_order).  \n",
    "\n",
    "Below we print the memory addresses of the different elements of the 2D array."
   ]
  },
  {
   "cell_type": "code",
   "execution_count": 9,
   "id": "34f20931-5492-4950-9fb5-14ad87352ea9",
   "metadata": {},
   "outputs": [
    {
     "name": "stdout",
     "output_type": "stream",
     "text": [
      "| 0x7f55330fa090 | 0x7f55330fa098 | 0x7f55330fa0a0 |\n",
      "| 0x7f55330fa0a8 | 0x7f55330fa0b0 | 0x7f55330fa0b8 |\n"
     ]
    }
   ],
   "source": [
    "for (int i=0; i<nr; ++i){\n",
    "    for (int j=0; j<nc; ++j){\n",
    "        printf(\"| 0x%lx \",(unsigned long)&c[i][j]);  // c[nr=i][nc=j]\n",
    "    }\n",
    "    printf(\"|\\n\");\n",
    "}"
   ]
  },
  {
   "cell_type": "markdown",
   "id": "dbe139a8-37ad-4aba-8dc9-adc932b0eaa7",
   "metadata": {
    "slideshow": {
     "slide_type": "slide"
    }
   },
   "source": [
    "The \"name\" of each row is an array of length *nc*.  As before the array name serves as a pointer to it's first element.\n",
    "\n",
    "Print out of the array values: <br>\n",
    "|   11 |   12 |   13 |<br>\n",
    "|   21 |   22 |   23 |"
   ]
  },
  {
   "cell_type": "code",
   "execution_count": 10,
   "id": "a0ddb35e-1cd0-47a8-8f32-0119da96b463",
   "metadata": {},
   "outputs": [
    {
     "name": "stdout",
     "output_type": "stream",
     "text": [
      "0x7f55330fa090,   11\n",
      "0x7f55330fa0a8,   21\n"
     ]
    }
   ],
   "source": [
    "printf(\"0x%lx, %4.0lf\\n\",(unsigned long)c[0], *c[0]);\n",
    "printf(\"0x%lx, %4.0lf\\n\",(unsigned long)c[1], *c[1]);\n"
   ]
  },
  {
   "cell_type": "markdown",
   "id": "8faa91b0-d453-47cc-8d65-7406874eebcc",
   "metadata": {
    "slideshow": {
     "slide_type": "slide"
    }
   },
   "source": [
    "Pointer arithmetic works as expected:\n",
    "\n",
    "Print out of the array values: <br>\n",
    "|   11 |   12 |   13 |<br>\n",
    "|   21 |   22 |   23 |"
   ]
  },
  {
   "cell_type": "code",
   "execution_count": 11,
   "id": "838271bf-aaae-4e79-b0d1-9d336dcf75ef",
   "metadata": {},
   "outputs": [
    {
     "name": "stdout",
     "output_type": "stream",
     "text": [
      "0x7f55330fa090,   12\n",
      "0x7f55330fa0a8,   22\n"
     ]
    }
   ],
   "source": [
    "printf(\"0x%lx, %4.0lf\\n\",(unsigned long)c[0], *c[0]+1);\n",
    "printf(\"0x%lx, %4.0lf\\n\",(unsigned long)c[1], *c[1]+1);"
   ]
  },
  {
   "cell_type": "markdown",
   "id": "5499b2b7-81c8-4862-aef3-81ad55b5b37d",
   "metadata": {
    "slideshow": {
     "slide_type": "slide"
    },
    "tags": []
   },
   "source": [
    "## Passing a 2D array to a function\n",
    "\n",
    "There are a number of ways to pass 2D arays to functions.  An nice overview of different methcan be found here: https://www.geeksforgeeks.org/pass-2d-array-parameter-c/\n",
    "\n",
    "As always, arrays do not carry size information.  So to pass an array to a function you have to also provide information on the size, and in the 2D case the dimensions *nr*,*nc* are often needed, but..."
   ]
  },
  {
   "cell_type": "markdown",
   "id": "c496cc37",
   "metadata": {
    "slideshow": {
     "slide_type": "slide"
    }
   },
   "source": [
    "## All arrays are 1D objects\n",
    "We can use the fact that the data in an array can be specified by \n",
    "* a starting location, \n",
    "* data type,\n",
    "* and number of elements. \n",
    "\n",
    "So we can sum an array of doubles of any dimensions treating them as 1D arrays."
   ]
  },
  {
   "cell_type": "code",
   "execution_count": 12,
   "id": "677f004b-3203-41bd-ad88-79218b25ade3",
   "metadata": {
    "slideshow": {
     "slide_type": "subslide"
    }
   },
   "outputs": [],
   "source": [
    "// array location and number of elements are passed\n",
    "// here we iterator of a 1D array\n",
    "int addArray(double *a, int size){\n",
    "    double sum=0;\n",
    "    for (int i=0; i<size; i++){      // iterate # of elements\n",
    "        sum+=a[i];\n",
    "    }\n",
    "    return sum;\n",
    "}"
   ]
  },
  {
   "cell_type": "code",
   "execution_count": 13,
   "id": "01410577-e29e-4589-9ebe-b98c88837ab1",
   "metadata": {},
   "outputs": [
    {
     "name": "stdout",
     "output_type": "stream",
     "text": [
      "102\n",
      "102\n"
     ]
    }
   ],
   "source": [
    "{\n",
    "printf(\"%d\\n\",addArray(&c[0][0],nr*nc));  // pass pointer to 1st element + size of array\n",
    "// or \n",
    "printf(\"%d\\n\",addArray((double*)c,nr*nc));  // convert array name to double*, then pass with array size\n",
    "}"
   ]
  },
  {
   "cell_type": "markdown",
   "id": "f7a20420-aeb1-4d6c-a41d-ae8ea6ed1d07",
   "metadata": {
    "slideshow": {
     "slide_type": "slide"
    }
   },
   "source": [
    "\"Pseudo\" iterating in 2D: <b>a + i*nc + j</b> calculates the pointer offset to access element a[i][j].  \n",
    "This is very useful if you need to perform [direct access](https://en.wikipedia.org/wiki/Random_access) to individual elements [i][j] of a 2D array rather than just looping sequentially through all the elements."
   ]
  },
  {
   "cell_type": "code",
   "execution_count": 14,
   "id": "8b24c9bb-95b5-46d1-947c-bfc825968465",
   "metadata": {},
   "outputs": [],
   "source": [
    "// array location and nr,nc of elements are passed\n",
    "int addArray2(double *a, int nr, int nc){\n",
    "    double sum=0;\n",
    "      for (int i=0; i<nr; i++){       // iterate over row #\n",
    "        for (int j=0; j<nc; j++){     // iterate over column #\n",
    "        //sum += *( a + i*nc + j );     // equivalent to a[i][j] in the main function, pointer notation\n",
    "        sum += a[ i*nc + j ];          // equivalent to a[i][j] in the main function, array notation\n",
    "        }\n",
    "    }\n",
    "    return sum;\n",
    "}"
   ]
  },
  {
   "cell_type": "code",
   "execution_count": 15,
   "id": "80b88d9a-5d69-4e81-a062-8a8c324ec11c",
   "metadata": {},
   "outputs": [
    {
     "name": "stdout",
     "output_type": "stream",
     "text": [
      "102\n",
      "102\n"
     ]
    }
   ],
   "source": [
    "printf(\"%d\\n\",addArray2(&c[0][0],nr,nc));\n",
    "// or \n",
    "printf(\"%d\\n\",addArray2((double*)c,nr,nc));"
   ]
  },
  {
   "cell_type": "markdown",
   "id": "a7369163",
   "metadata": {
    "slideshow": {
     "slide_type": "slide"
    }
   },
   "source": [
    "# Function pointer example"
   ]
  },
  {
   "cell_type": "code",
   "execution_count": 16,
   "id": "22441e3c",
   "metadata": {},
   "outputs": [
    {
     "name": "stdout",
     "output_type": "stream",
     "text": [
      "Integral of sin(x) in [0:pi/2] = 0.999979\n",
      "Integral of exp(x) in [0:10] = 22030.054242\n"
     ]
    }
   ],
   "source": [
    "//The function below takes a function pointer, an integration range, and # of steps.\n",
    "double trap_rule(double (*f)(double), double min, double max, int steps){\n",
    "  int i;\n",
    "  double sum=0;\n",
    "  double dx=(max-min)/steps;\n",
    "  for (i=1; i<steps ; i++) sum += f(min + i*dx);\n",
    "  return dx * ( (f(min)+f(max))/2 + sum );\n",
    "}\n",
    "\n",
    "printf(\"Integral of sin(x) in [0:pi/2] = %f\\n\", trap_rule(sin,0,M_PI/2,100));\n",
    "printf(\"Integral of exp(x) in [0:10] = %f\\n\",trap_rule(exp,0,10.,200));"
   ]
  },
  {
   "cell_type": "markdown",
   "id": "52abf89f",
   "metadata": {
    "slideshow": {
     "slide_type": "slide"
    }
   },
   "source": [
    "# Additional example from lecture\n",
    "Iterative solution for sqrt(x)"
   ]
  },
  {
   "cell_type": "code",
   "execution_count": 17,
   "id": "0757c6ea",
   "metadata": {},
   "outputs": [],
   "source": [
    "double sqrtn(double x) {               // function implementation\n",
    "    double guess = x/2.0;\n",
    "    while (fabs(guess*guess-x)>1e-8) \n",
    "        guess = (guess + x/guess)/2;\n",
    "    return guess;\n",
    "}"
   ]
  },
  {
   "cell_type": "code",
   "execution_count": 18,
   "id": "4c69badc",
   "metadata": {},
   "outputs": [
    {
     "data": {
      "text/plain": [
       "8.7749644"
      ]
     },
     "execution_count": 18,
     "metadata": {},
     "output_type": "execute_result"
    }
   ],
   "source": [
    "sqrtn(77)"
   ]
  }
 ],
 "metadata": {
  "celltoolbar": "Slideshow",
  "kernelspec": {
   "display_name": "ROOT C++",
   "language": "c++",
   "name": "root"
  },
  "language_info": {
   "codemirror_mode": "text/x-c++src",
   "file_extension": ".C",
   "mimetype": " text/x-c++src",
   "name": "c++"
  }
 },
 "nbformat": 4,
 "nbformat_minor": 5
}
