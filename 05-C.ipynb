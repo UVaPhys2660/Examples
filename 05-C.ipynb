{
 "cells": [
  {
   "cell_type": "markdown",
   "id": "8b545125-ebd0-4894-9bed-87fc66229210",
   "metadata": {},
   "source": [
    "# 1 and 2D arrays \n",
    "\n",
    "## Reminders about  1D Arrays"
   ]
  },
  {
   "cell_type": "code",
   "execution_count": 1,
   "id": "a22db410-ef66-4830-a6c2-a07cbfa9a52f",
   "metadata": {},
   "outputs": [],
   "source": [
    "double b[10];  // array of 10 doubles"
   ]
  },
  {
   "cell_type": "code",
   "execution_count": 2,
   "id": "caec692e-7aca-4660-a30b-64987f320d60",
   "metadata": {},
   "outputs": [
    {
     "name": "stdout",
     "output_type": "stream",
     "text": [
      "2.000000 4.000000 6.000000 8.000000 10.000000 12.000000 14.000000 16.000000 18.000000 20.000000 \n"
     ]
    }
   ],
   "source": [
    "int n = sizeof(b)/sizeof(double);\n",
    "for (int i=0; i<n; i++){\n",
    "    b[i]=2*(i+1);  // indexing always starts at 0, ends and n-1 !!!\n",
    "    printf(\"%lf \",b[i]);\n",
    "}\n",
    "printf(\"\\n\");"
   ]
  },
  {
   "cell_type": "markdown",
   "id": "2da9d7de-4060-4824-bf82-efb26b3bfd5d",
   "metadata": {},
   "source": [
    "The type of b is a **pointer to a double** \n",
    "The name of an array doubles as a pointer to its first value."
   ]
  },
  {
   "cell_type": "code",
   "execution_count": 3,
   "id": "b75b6d1e-9117-4864-a9a5-b7ba826af89a",
   "metadata": {},
   "outputs": [],
   "source": [
    "double *b_p = b;\n",
    "// the following is identical\n",
    "// int *b_p = &b[0];"
   ]
  },
  {
   "cell_type": "markdown",
   "id": "57e4c67d-c6cd-4d71-9f27-ce359c82bdfa",
   "metadata": {},
   "source": [
    "Array indexing is equivalent to defeferencing a pointer. "
   ]
  },
  {
   "cell_type": "code",
   "execution_count": 4,
   "id": "90e3fed1-8aba-4158-b506-aa37e201d744",
   "metadata": {},
   "outputs": [
    {
     "name": "stdout",
     "output_type": "stream",
     "text": [
      "2.000000\n",
      "2.000000\n",
      "2.000000\n"
     ]
    }
   ],
   "source": [
    "printf(\"%lf\\n\",b[0]);\n",
    "printf(\"%lf\\n\",b_p[0]);\n",
    "printf(\"%lf\\n\",*b);"
   ]
  },
  {
   "cell_type": "markdown",
   "id": "fb59a3a3-af5a-426a-968b-2ef17fa749a8",
   "metadata": {},
   "source": [
    "Array indexing is equivalent to \"pointer arithmetic\""
   ]
  },
  {
   "cell_type": "code",
   "execution_count": 5,
   "id": "57b66991-9a14-4ce5-837e-205cbb5f2f89",
   "metadata": {},
   "outputs": [
    {
     "name": "stdout",
     "output_type": "stream",
     "text": [
      "b[0] = 2.000000 b_p = 0x7f67e6821020 *b_p = 2.000000\n",
      "b[1] = 4.000000 b_p = 0x7f67e6821028 *b_p = 4.000000\n",
      "b[2] = 6.000000 b_p = 0x7f67e6821030 *b_p = 6.000000\n",
      "b[3] = 8.000000 b_p = 0x7f67e6821038 *b_p = 8.000000\n",
      "b[4] = 10.000000 b_p = 0x7f67e6821040 *b_p = 10.000000\n",
      "b[5] = 12.000000 b_p = 0x7f67e6821048 *b_p = 12.000000\n",
      "b[6] = 14.000000 b_p = 0x7f67e6821050 *b_p = 14.000000\n",
      "b[7] = 16.000000 b_p = 0x7f67e6821058 *b_p = 16.000000\n",
      "b[8] = 18.000000 b_p = 0x7f67e6821060 *b_p = 18.000000\n",
      "b[9] = 20.000000 b_p = 0x7f67e6821068 *b_p = 20.000000\n"
     ]
    }
   ],
   "source": [
    "for (int i=0; i<n; i++){\n",
    "    printf(\"b[%d] = %2lf \", i,b[i]);\n",
    "    printf(\"b_p = 0x%lx \",(unsigned long)b_p);\n",
    "    printf(\"*b_p = %2lf\\n\", *b_p);\n",
    "    b_p = b_p + 1;\n",
    "}"
   ]
  },
  {
   "cell_type": "markdown",
   "id": "91b93725-e71c-48b2-aa98-cf39480a8a70",
   "metadata": {},
   "source": [
    "# Going to 2 dimensions"
   ]
  },
  {
   "cell_type": "code",
   "execution_count": 4,
   "id": "14fa07ef-d5db-4428-90a8-39ecd85e17c4",
   "metadata": {},
   "outputs": [],
   "source": [
    "const int nr=2, nc=3;\n",
    "double c[nr][nc];"
   ]
  },
  {
   "cell_type": "markdown",
   "id": "7ade67d4-0c4b-479f-b3a1-68de65371bbf",
   "metadata": {},
   "source": [
    "We can think of a 2D array as an array of arrays. <br>\n",
    "For each index *nr* we have an array of *nc* doubles.\n",
    "\n",
    "Filling the array:"
   ]
  },
  {
   "cell_type": "code",
   "execution_count": 5,
   "id": "89e6c87e-ef1a-4fd2-b0c4-b0020f72955c",
   "metadata": {},
   "outputs": [],
   "source": [
    "for (int i=0; i<nr; ++i){\n",
    "    for (int j=0; j<nc; ++j){\n",
    "        c[i][j]=(i+1)*10+(j+1);\n",
    "    }\n",
    "}"
   ]
  },
  {
   "cell_type": "markdown",
   "id": "5c943d1d-e560-494a-8603-fed13ef54883",
   "metadata": {},
   "source": [
    "Printing the array"
   ]
  },
  {
   "cell_type": "code",
   "execution_count": 6,
   "id": "0193b561-5fde-434b-a46d-9c4cb3ad7ad6",
   "metadata": {},
   "outputs": [
    {
     "name": "stdout",
     "output_type": "stream",
     "text": [
      "|   11 |   12 |   13 |\n",
      "|   21 |   22 |   23 |\n"
     ]
    }
   ],
   "source": [
    "for (int i=0; i<nr; ++i){\n",
    "    for (int j=0; j<nc; ++j){\n",
    "        printf(\"| %4.0lf \",c[i][j]);\n",
    "    }\n",
    "    printf(\"|\\n\");\n",
    "}"
   ]
  },
  {
   "cell_type": "markdown",
   "id": "7a900429-040f-4ae4-988f-e8a4b7bdc78a",
   "metadata": {},
   "source": [
    "Proof that arrays are stored in [**row-major** order](https://en.wikipedia.org/wiki/Row-_and_column-major_order).  Below we print the memory addresses of the different elements of the 2D array."
   ]
  },
  {
   "cell_type": "code",
   "execution_count": 7,
   "id": "34f20931-5492-4950-9fb5-14ad87352ea9",
   "metadata": {},
   "outputs": [
    {
     "name": "stdout",
     "output_type": "stream",
     "text": [
      "| 0x7f3ec503c030 | 0x7f3ec503c038 | 0x7f3ec503c040 |\n",
      "| 0x7f3ec503c048 | 0x7f3ec503c050 | 0x7f3ec503c058 |\n"
     ]
    }
   ],
   "source": [
    "for (int i=0; i<nr; ++i){\n",
    "    for (int j=0; j<nc; ++j){\n",
    "        printf(\"| 0x%lx \",(unsigned long)&c[i][j]);\n",
    "    }\n",
    "    printf(\"|\\n\");\n",
    "}"
   ]
  },
  {
   "cell_type": "markdown",
   "id": "dbe139a8-37ad-4aba-8dc9-adc932b0eaa7",
   "metadata": {},
   "source": [
    "The \"name\" of each row is an array of length *nc*.  As before the array name serves as a pointer to it's first element."
   ]
  },
  {
   "cell_type": "code",
   "execution_count": 8,
   "id": "a0ddb35e-1cd0-47a8-8f32-0119da96b463",
   "metadata": {},
   "outputs": [
    {
     "name": "stdout",
     "output_type": "stream",
     "text": [
      "0x7f3ec503c030,   11\n",
      "0x7f3ec503c048,   21\n"
     ]
    }
   ],
   "source": [
    "printf(\"0x%lx, %4.0lf\\n\",(unsigned long)c[0], *c[0]);\n",
    "printf(\"0x%lx, %4.0lf\\n\",(unsigned long)c[1], *c[1]);"
   ]
  },
  {
   "cell_type": "markdown",
   "id": "8faa91b0-d453-47cc-8d65-7406874eebcc",
   "metadata": {},
   "source": [
    "Pointer arithmetic works as expected:"
   ]
  },
  {
   "cell_type": "code",
   "execution_count": 9,
   "id": "838271bf-aaae-4e79-b0d1-9d336dcf75ef",
   "metadata": {},
   "outputs": [
    {
     "name": "stdout",
     "output_type": "stream",
     "text": [
      "0x7f3ec503c030,   12\n",
      "0x7f3ec503c048,   22\n"
     ]
    }
   ],
   "source": [
    "printf(\"0x%lx, %4.0lf\\n\",(unsigned long)c[0], *c[0]+1);\n",
    "printf(\"0x%lx, %4.0lf\\n\",(unsigned long)c[1], *c[1]+1);"
   ]
  },
  {
   "cell_type": "markdown",
   "id": "5499b2b7-81c8-4862-aef3-81ad55b5b37d",
   "metadata": {
    "tags": []
   },
   "source": [
    "## Passing a 2D array to a function\n",
    "\n",
    "There are a number of ways to pass 2D arays to functions.  An nice overview of different methcan be found here: https://www.geeksforgeeks.org/pass-2d-array-parameter-c/\n",
    "\n",
    "As always, arrays do not carry size information.  So to pass an array to a function you have to also provide information on the size, and in the 2D case the dimensions *nr*,*nc* are often needed, but...\n",
    "\n",
    "\n",
    "## All arrays are 1D objects"
   ]
  },
  {
   "cell_type": "code",
   "execution_count": 10,
   "id": "677f004b-3203-41bd-ad88-79218b25ade3",
   "metadata": {},
   "outputs": [],
   "source": [
    "// array location and number of elements are passed\n",
    "// here we iterator of a 1D array\n",
    "int addArray(double *a, int size){\n",
    "    double sum=0;\n",
    "    for (int i=0; i<size; i++){      // iterate # of elements\n",
    "        sum+=a[i];\n",
    "    }\n",
    "    return sum;\n",
    "}"
   ]
  },
  {
   "cell_type": "markdown",
   "id": "68754a8f-2ac5-4fbd-b67c-8e3f3744135a",
   "metadata": {},
   "source": [
    "Here we the fact that the data in an array can be specified by a starting location, data type, and number of elements.  So we can sum an array of doubles of any dimensions with the function above."
   ]
  },
  {
   "cell_type": "code",
   "execution_count": 17,
   "id": "01410577-e29e-4589-9ebe-b98c88837ab1",
   "metadata": {},
   "outputs": [
    {
     "name": "stdout",
     "output_type": "stream",
     "text": [
      "102\n",
      "102\n"
     ]
    }
   ],
   "source": [
    "printf(\"%d\\n\",addArray(&c[0][0],nr*nc));\n",
    "// or \n",
    "printf(\"%d\\n\",addArray((double*)c,nr*nc));"
   ]
  },
  {
   "cell_type": "markdown",
   "id": "f7a20420-aeb1-4d6c-a41d-ae8ea6ed1d07",
   "metadata": {},
   "source": [
    "Below we \"imagine\" we are iterating in 2D. The calculation a + i*nc + j gives the pointer offset to access element a[i][j].  This is very useful is you need to perform [direct access](https://en.wikipedia.org/wiki/Random_access) to individual elements of a 2D array rather than just looping sequentially through all the elements."
   ]
  },
  {
   "cell_type": "code",
   "execution_count": 35,
   "id": "8b24c9bb-95b5-46d1-947c-bfc825968465",
   "metadata": {},
   "outputs": [],
   "source": [
    "// array location and nr,nc of elements are passed\n",
    "int addArray2(double *a, int nr, int nc){\n",
    "    double sum=0;\n",
    "      for (int i=0; i<nr; i++){       // iterate over row #\n",
    "        for (int j=0; j<nc; j++){     // iterate over column #\n",
    "        sum += *( a + i*nc + j );     // equivalent to a[i][j] in the main function\n",
    "        }\n",
    "    }\n",
    "    return sum;\n",
    "}"
   ]
  },
  {
   "cell_type": "code",
   "execution_count": 36,
   "id": "80b88d9a-5d69-4e81-a062-8a8c324ec11c",
   "metadata": {},
   "outputs": [
    {
     "name": "stdout",
     "output_type": "stream",
     "text": [
      "102\n",
      "102\n"
     ]
    }
   ],
   "source": [
    "printf(\"%d\\n\",addArray2(&c[0][0],nr,nc));\n",
    "// or \n",
    "printf(\"%d\\n\",addArray2((double*)c,nr,nc));"
   ]
  },
  {
   "cell_type": "code",
   "execution_count": null,
   "id": "ae7956c0-3573-455a-ab04-97fc3daa869e",
   "metadata": {},
   "outputs": [],
   "source": []
  }
 ],
 "metadata": {
  "kernelspec": {
   "display_name": "ROOT C++",
   "language": "c++",
   "name": "root"
  },
  "language_info": {
   "codemirror_mode": "text/x-c++src",
   "file_extension": ".C",
   "mimetype": " text/x-c++src",
   "name": "c++"
  }
 },
 "nbformat": 4,
 "nbformat_minor": 5
}
